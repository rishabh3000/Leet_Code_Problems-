{
 "cells": [
  {
   "cell_type": "markdown",
   "id": "20151c41",
   "metadata": {},
   "source": [
    "## Two Sum Prob"
   ]
  },
  {
   "cell_type": "code",
   "execution_count": 1,
   "id": "61fdfdf0",
   "metadata": {},
   "outputs": [],
   "source": [
    "def twoSum(nums,target):    \n",
    "    for i in range(len(nums)):\n",
    "        for j in range(i+1,len(nums)):\n",
    "            sum =nums[i] +nums[j]\n",
    "            if sum==target:\n",
    "                return [i,j]"
   ]
  },
  {
   "cell_type": "code",
   "execution_count": 2,
   "id": "e676bece",
   "metadata": {},
   "outputs": [
    {
     "data": {
      "text/plain": [
       "[2, 5]"
      ]
     },
     "execution_count": 2,
     "metadata": {},
     "output_type": "execute_result"
    }
   ],
   "source": [
    "nums=[1,2,3,4,5,6]\n",
    "twoSum(nums,9)"
   ]
  },
  {
   "cell_type": "markdown",
   "id": "a5d5677f",
   "metadata": {},
   "source": [
    "## Prime Number Soln"
   ]
  },
  {
   "cell_type": "code",
   "execution_count": 4,
   "id": "c12ed5ba",
   "metadata": {},
   "outputs": [],
   "source": [
    "def primeNumber(n):\n",
    "    if(n<=0  or n==1):\n",
    "        return False\n",
    "    for i in range(2,n):\n",
    "        if (n%i==0):                                       \n",
    "            return False\n",
    "    return True"
   ]
  },
  {
   "cell_type": "code",
   "execution_count": 5,
   "id": "11d87611",
   "metadata": {},
   "outputs": [
    {
     "name": "stdout",
     "output_type": "stream",
     "text": [
      "71\n"
     ]
    },
    {
     "data": {
      "text/plain": [
       "True"
      ]
     },
     "execution_count": 5,
     "metadata": {},
     "output_type": "execute_result"
    }
   ],
   "source": [
    "n=int(input())\n",
    "primeNumber(n)"
   ]
  },
  {
   "cell_type": "code",
   "execution_count": null,
   "id": "eb8fe5ad",
   "metadata": {},
   "outputs": [],
   "source": []
  }
 ],
 "metadata": {
  "kernelspec": {
   "display_name": "Python 3 (ipykernel)",
   "language": "python",
   "name": "python3"
  },
  "language_info": {
   "codemirror_mode": {
    "name": "ipython",
    "version": 3
   },
   "file_extension": ".py",
   "mimetype": "text/x-python",
   "name": "python",
   "nbconvert_exporter": "python",
   "pygments_lexer": "ipython3",
   "version": "3.9.7"
  }
 },
 "nbformat": 4,
 "nbformat_minor": 5
}
